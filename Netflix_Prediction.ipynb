{
  "nbformat": 4,
  "nbformat_minor": 0,
  "metadata": {
    "colab": {
      "provenance": []
    },
    "kernelspec": {
      "name": "python3",
      "display_name": "Python 3"
    },
    "language_info": {
      "name": "python"
    }
  },
  "cells": [
    {
      "cell_type": "code",
      "source": [
        "pip install scikit-surprise\n"
      ],
      "metadata": {
        "colab": {
          "base_uri": "https://localhost:8080/"
        },
        "id": "6vaQ9G3rLM7M",
        "outputId": "e0cbfee0-386a-4244-cc22-ed7d18863731"
      },
      "execution_count": null,
      "outputs": [
        {
          "output_type": "stream",
          "name": "stdout",
          "text": [
            "Collecting scikit-surprise\n",
            "  Downloading scikit-surprise-1.1.3.tar.gz (771 kB)\n",
            "\u001b[2K     \u001b[90m━━━━━━━━━━━━━━━━━━━━━━━━━━━━━━━━━━━━━━━\u001b[0m \u001b[32m772.0/772.0 kB\u001b[0m \u001b[31m5.8 MB/s\u001b[0m eta \u001b[36m0:00:00\u001b[0m\n",
            "\u001b[?25h  Preparing metadata (setup.py) ... \u001b[?25l\u001b[?25hdone\n",
            "Requirement already satisfied: joblib>=1.0.0 in /usr/local/lib/python3.10/dist-packages (from scikit-surprise) (1.3.2)\n",
            "Requirement already satisfied: numpy>=1.17.3 in /usr/local/lib/python3.10/dist-packages (from scikit-surprise) (1.23.5)\n",
            "Requirement already satisfied: scipy>=1.3.2 in /usr/local/lib/python3.10/dist-packages (from scikit-surprise) (1.10.1)\n",
            "Building wheels for collected packages: scikit-surprise\n",
            "  Building wheel for scikit-surprise (setup.py) ... \u001b[?25l\u001b[?25hdone\n",
            "  Created wheel for scikit-surprise: filename=scikit_surprise-1.1.3-cp310-cp310-linux_x86_64.whl size=2811609 sha256=14237d236de8ed816cdb049d262b6bd28dde0e08abcf45864107c1bcc1fa07b0\n",
            "  Stored in directory: /root/.cache/pip/wheels/a5/ca/a8/4e28def53797fdc4363ca4af740db15a9c2f1595ebc51fb445\n",
            "Successfully built scikit-surprise\n",
            "Installing collected packages: scikit-surprise\n",
            "Successfully installed scikit-surprise-1.1.3\n"
          ]
        }
      ]
    },
    {
      "cell_type": "code",
      "source": [
        "import pandas as pd\n",
        "from surprise import Dataset, Reader, SVD\n",
        "from surprise.model_selection import train_test_split\n",
        "\n",
        "# Load the data\n",
        "movies_df = pd.read_csv('Netflix_Dataset_Movie.csv')\n",
        "ratings_df = pd.read_csv('Netflix_Dataset_Rating.csv')\n",
        "\n",
        "# Create a utility matrix\n",
        "utility_matrix = ratings_df.pivot_table(index='User_ID', columns='Movie_ID', values='Rating')\n",
        "\n",
        "# Fill missing values with 0 (assuming no rating means a rating of 0)\n",
        "utility_matrix = utility_matrix.fillna(0)\n",
        "\n",
        "# Display the utility matrix\n",
        "print(utility_matrix)\n",
        "# Define a Reader to specify the rating scale (from 1 to 5)\n",
        "reader = Reader(rating_scale=(1, 5))\n",
        "\n",
        "# Create a Surprise Dataset object\n",
        "data = Dataset.load_from_df(ratings_df[['User_ID', 'Movie_ID', 'Rating']], reader)\n",
        "\n",
        "# Split the data into a training set and a test set (75% training, 25% testing)\n",
        "trainset, testset = train_test_split(data, test_size=0.25, random_state=42)\n",
        "\n",
        "# Build and train an SVD-based collaborative filtering model\n",
        "model = SVD()\n",
        "model.fit(trainset)\n",
        "\n",
        "# Specify the User_ID for whom you want to make recommendations\n",
        "user_id = 7  # Replace with the User_ID you want to recommend movies for\n",
        "\n",
        "# Get a list of movies that the user has not yet rated\n",
        "user_unrated_movies = ratings_df[~ratings_df['Movie_ID'].isin(trainset.all_items())]\n",
        "\n",
        "# Predict ratings for the unrated movies\n",
        "user_predictions = [(movie_id, model.predict(user_id, movie_id).est) for movie_id in user_unrated_movies['Movie_ID']]\n",
        "\n",
        "# Sort the predicted ratings in descending order\n",
        "user_predictions.sort(key=lambda x: x[1], reverse=True)\n",
        "\n",
        "# Number of recommendations to provide\n",
        "num_recommendations = 10  # Change this to the desired number of recommendations\n",
        "\n",
        "# Keep track of recommended movie IDs\n",
        "recommended_movie_ids = set()\n",
        "\n",
        "# Print the recommended movie IDs and their predicted ratings\n",
        "print(\"Recommended Movies with Predicted Ratings for User {}: \".format(user_id))\n",
        "for movie_id, rating in user_predictions:\n",
        "    if len(recommended_movie_ids) >= num_recommendations:\n",
        "        break\n",
        "    if movie_id not in recommended_movie_ids:\n",
        "        recommended_movie_ids.add(movie_id)\n",
        "        recommended_movie = movies_df[movies_df['Movie_ID'] == movie_id]['Name'].values[0]\n",
        "        print(\"Movie ID: {}, Movie Name: {}, Predicted Rating: {:.2f}\".format(movie_id, recommended_movie, rating))\n",
        "\n"
      ],
      "metadata": {
        "colab": {
          "base_uri": "https://localhost:8080/"
        },
        "id": "cgm59MxcXO3D",
        "outputId": "a61c712b-e3f5-4bb5-913d-8941c6d52244"
      },
      "execution_count": null,
      "outputs": [
        {
          "output_type": "stream",
          "name": "stdout",
          "text": [
            "Movie_ID  3    8    16   17   18   26   28   30   32   33   ...  273  275  \\\n",
            "User_ID                                                     ...             \n",
            "6         0.0  4.0  0.0  0.0  0.0  0.0  0.0  0.0  0.0  0.0  ...  0.0  0.0   \n",
            "7         0.0  0.0  0.0  0.0  0.0  5.0  0.0  4.0  0.0  0.0  ...  2.0  0.0   \n",
            "79        0.0  0.0  0.0  0.0  0.0  0.0  0.0  0.0  0.0  0.0  ...  0.0  0.0   \n",
            "97        0.0  0.0  0.0  0.0  0.0  0.0  0.0  4.0  0.0  0.0  ...  0.0  0.0   \n",
            "134       0.0  0.0  0.0  0.0  0.0  0.0  4.0  4.0  0.0  5.0  ...  0.0  0.0   \n",
            "...       ...  ...  ...  ...  ...  ...  ...  ...  ...  ...  ...  ...  ...   \n",
            "256054    0.0  0.0  0.0  0.0  0.0  0.0  0.0  0.0  0.0  0.0  ...  4.0  0.0   \n",
            "256057    0.0  0.0  0.0  4.0  0.0  0.0  3.0  2.0  0.0  0.0  ...  0.0  0.0   \n",
            "256065    0.0  0.0  0.0  0.0  0.0  0.0  3.0  0.0  0.0  0.0  ...  0.0  0.0   \n",
            "256067    0.0  0.0  0.0  0.0  0.0  0.0  0.0  0.0  0.0  1.0  ...  0.0  0.0   \n",
            "256072    0.0  5.0  0.0  0.0  0.0  0.0  0.0  0.0  0.0  0.0  ...  0.0  0.0   \n",
            "\n",
            "Movie_ID  281  283  285  289  290  295  297  299  \n",
            "User_ID                                           \n",
            "6         0.0  0.0  0.0  0.0  0.0  0.0  0.0  4.0  \n",
            "7         0.0  0.0  3.0  0.0  0.0  0.0  0.0  0.0  \n",
            "79        0.0  0.0  0.0  0.0  0.0  4.0  0.0  0.0  \n",
            "97        0.0  0.0  0.0  0.0  0.0  2.0  0.0  0.0  \n",
            "134       0.0  0.0  0.0  0.0  3.0  4.0  0.0  0.0  \n",
            "...       ...  ...  ...  ...  ...  ...  ...  ...  \n",
            "256054    0.0  0.0  0.0  0.0  5.0  0.0  0.0  4.0  \n",
            "256057    0.0  0.0  0.0  0.0  0.0  0.0  0.0  4.0  \n",
            "256065    0.0  3.0  0.0  0.0  0.0  4.0  0.0  0.0  \n",
            "256067    0.0  0.0  3.0  0.0  5.0  0.0  0.0  0.0  \n",
            "256072    0.0  0.0  0.0  0.0  0.0  0.0  0.0  4.0  \n",
            "\n",
            "[13811 rows x 91 columns]\n",
            "Recommended Movies with Predicted Ratings for User 7: \n",
            "Movie ID: 199, Movie Name: The Deer Hunter, Predicted Rating: 3.82\n",
            "Movie ID: 240, Movie Name: Woman of the Year, Predicted Rating: 3.73\n",
            "Movie ID: 148, Movie Name: Sweet November, Predicted Rating: 3.62\n",
            "Movie ID: 110, Movie Name: Scandal, Predicted Rating: 3.61\n",
            "Movie ID: 108, Movie Name: Spartan, Predicted Rating: 3.61\n",
            "Movie ID: 175, Movie Name: Reservoir Dogs, Predicted Rating: 3.59\n",
            "Movie ID: 253, Movie Name: A Night at the Opera, Predicted Rating: 3.56\n",
            "Movie ID: 185, Movie Name: Missing in Action 2: The Beginning / Missing in Action 3: Braddock, Predicted Rating: 3.54\n",
            "Movie ID: 189, Movie Name: Airplane II: The Sequel, Predicted Rating: 3.51\n",
            "Movie ID: 201, Movie Name: Home Movie, Predicted Rating: 3.51\n"
          ]
        }
      ]
    }
  ]
}